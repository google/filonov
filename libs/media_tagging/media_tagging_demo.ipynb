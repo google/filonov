{
  "nbformat": 4,
  "nbformat_minor": 0,
  "metadata": {
    "colab": {
      "provenance": []
    },
    "kernelspec": {
      "name": "python3",
      "display_name": "Python 3"
    },
    "language_info": {
      "name": "python"
    }
  },
  "cells": [
    {
      "cell_type": "code",
      "execution_count": null,
      "metadata": {
        "id": "iAtXalQNN0JG"
      },
      "outputs": [],
      "source": [
        "# Readme - https://github.com/google/filonov/tree/main/libs/media_tagging#media-tagger\n",
        "!pip install media-tagging>=1.3.0\n"
      ]
    },
    {
      "cell_type": "code",
      "source": [
        "import os\n",
        "from google.colab import userdata\n",
        "from media_tagging import MediaTaggingService, MediaTaggingRequest\n",
        "\n",
        "if not (api_key := userdata.get('API_KEY')):\n",
        "  raise ValueError('API_KEY is required, setup in Secrets')\n",
        "os.environ['GOOGLE_API_KEY']=api_key\n",
        "\n",
        "service = MediaTaggingService()\n"
      ],
      "metadata": {
        "id": "NTjuRphnN3NF"
      },
      "execution_count": null,
      "outputs": []
    },
    {
      "cell_type": "code",
      "source": [
        "# @title Provide comma-separated media_paths\n",
        "\n",
        "media_urls = 'https://www.youtube.com/watch?v=798VKff1v2U' # @param {\"type\":\"string\"}\n",
        "media_paths = [m.strip() for m in media_urls.split(',')]"
      ],
      "metadata": {
        "cellView": "form",
        "id": "g0kx9rLIEuAY"
      },
      "execution_count": null,
      "outputs": []
    },
    {
      "cell_type": "markdown",
      "source": [
        "# Tag Media"
      ],
      "metadata": {
        "id": "R1slGib9CyCQ"
      }
    },
    {
      "cell_type": "code",
      "source": [
        "request = MediaTaggingRequest(\n",
        "  tagger_type='gemini',\n",
        "  media_type='YOUTUBE_VIDEO',\n",
        "  media_paths=media_paths,\n",
        ")\n",
        "response = service.tag_media(request)\n",
        "\n",
        "response.to_pandas()"
      ],
      "metadata": {
        "id": "TAkAF3TMDA0_"
      },
      "execution_count": null,
      "outputs": []
    },
    {
      "cell_type": "markdown",
      "source": [
        "# Describe Media"
      ],
      "metadata": {
        "id": "27VZhTNdC2cu"
      }
    },
    {
      "cell_type": "code",
      "source": [
        "request = MediaTaggingRequest(\n",
        "  tagger_type='gemini',\n",
        "  media_type='YOUTUBE_VIDEO',\n",
        "  media_paths=media_paths,\n",
        "  tagging_options={\n",
        "      'custom_prompt': 'Is this an advertising video or not? Answer only True or False'}\n",
        ")\n",
        "response = service.describe_media(request)\n",
        "\n",
        "response.to_pandas()"
      ],
      "metadata": {
        "id": "T2Rpl9kbC3xj"
      },
      "execution_count": null,
      "outputs": []
    },
    {
      "cell_type": "markdown",
      "source": [
        "# `media-tagger` CLI\n",
        "\n",
        "Use `media-tagger` CLI tool to achieve the same results"
      ],
      "metadata": {
        "id": "PlIQ4FYZ8UBO"
      }
    },
    {
      "cell_type": "code",
      "source": [
        "!media-tagger describe 'https://www.youtube.com/watch?v=798VKff1v2U' \\\n",
        "  --media-type YOUTUBE_VIDEO \\\n",
        "  --tagger gemini \\\n",
        "  --tagger.custom_prompt=\"Is this an advertising video or not? Answer only True or False\" \\\n",
        "  --writer console"
      ],
      "metadata": {
        "id": "BBnT7MIJ8an_"
      },
      "execution_count": null,
      "outputs": []
    }
  ]
}
